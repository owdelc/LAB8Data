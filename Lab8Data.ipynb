{
  "nbformat": 4,
  "nbformat_minor": 0,
  "metadata": {
    "colab": {
      "provenance": [],
      "authorship_tag": "ABX9TyPtUZwdAlQilbxixh3VqBfl"
    },
    "kernelspec": {
      "name": "python3",
      "display_name": "Python 3"
    },
    "language_info": {
      "name": "python"
    }
  },
  "cells": [
    {
      "cell_type": "markdown",
      "source": [
        "#Laboratorio 8 Data Science\n",
        "\n",
        "###Oscar De Leon 19298\n",
        "###Mirka Monzon 18139"
      ],
      "metadata": {
        "id": "iiMxasPYzd6u"
      }
    },
    {
      "cell_type": "code",
      "source": [
        "import matplotlib.pyplot as plt\n",
        "import datetime\n",
        "import numpy as np\n",
        "import pandas as pd\n",
        "import seaborn as sns \n"
      ],
      "metadata": {
        "id": "cAyZFmkDzqey"
      },
      "execution_count": 1,
      "outputs": []
    },
    {
      "cell_type": "markdown",
      "source": [
        "Carga de Datos"
      ],
      "metadata": {
        "id": "TWqwBpSS0jbJ"
      }
    },
    {
      "cell_type": "code",
      "execution_count": null,
      "metadata": {
        "id": "57ju2FKAzS4P"
      },
      "outputs": [],
      "source": []
    }
  ]
}